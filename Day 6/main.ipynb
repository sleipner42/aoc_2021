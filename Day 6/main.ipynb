{
 "cells": [
  {
   "cell_type": "code",
   "execution_count": 111,
   "metadata": {},
   "outputs": [],
   "source": [
    "import numpy as np\n",
    "import pandas as pd\n",
    "\n",
    "import sys\n",
    "sys.path.append('../')\n",
    "import session\n",
    "\n",
    "from aocd import get_data"
   ]
  },
  {
   "cell_type": "code",
   "execution_count": 112,
   "metadata": {},
   "outputs": [],
   "source": [
    "data = get_data(day=6).split(',')\n",
    "data = list(map(int, data))"
   ]
  },
  {
   "cell_type": "code",
   "execution_count": 120,
   "metadata": {},
   "outputs": [],
   "source": [
    "def get_pop_size(size, data):\n",
    "    types = np.zeros(9)\n",
    "\n",
    "    for a in data:\n",
    "        types[a] = types[a] + 1\n",
    "\n",
    "    for _ in range(size):\n",
    "        \n",
    "        new_fishes = types[0]\n",
    "        types[:-1] = types[1:]\n",
    "        types[6] = types[6] + new_fishes\n",
    "        types[8] = new_fishes\n",
    "    \n",
    "    return types.sum()"
   ]
  },
  {
   "cell_type": "code",
   "execution_count": 128,
   "metadata": {},
   "outputs": [
    {
     "name": "stdout",
     "output_type": "stream",
     "text": [
      "372300.0\n",
      "1675781200288.0\n"
     ]
    }
   ],
   "source": [
    "print(get_pop_size(80, data))\n",
    "print(get_pop_size(256, data))"
   ]
  }
 ],
 "metadata": {
  "interpreter": {
   "hash": "b32e936e91378c4d397697d04582f22939185e0a3026652f9c69eeb0dda72e23"
  },
  "kernelspec": {
   "display_name": "Python 3.9.4 64-bit ('3.9.4': pyenv)",
   "name": "python3"
  },
  "language_info": {
   "codemirror_mode": {
    "name": "ipython",
    "version": 3
   },
   "file_extension": ".py",
   "mimetype": "text/x-python",
   "name": "python",
   "nbconvert_exporter": "python",
   "pygments_lexer": "ipython3",
   "version": "3.9.4"
  },
  "orig_nbformat": 4
 },
 "nbformat": 4,
 "nbformat_minor": 2
}
