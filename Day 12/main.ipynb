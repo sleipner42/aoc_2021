{
 "cells": [
  {
   "cell_type": "code",
   "execution_count": 2,
   "metadata": {},
   "outputs": [],
   "source": [
    "import numpy as np\n",
    "import pandas as pd\n",
    "\n",
    "import sys\n",
    "sys.path.append('../')\n",
    "import session\n",
    "\n",
    "from aocd import get_data\n",
    "from tqdm import tqdm"
   ]
  },
  {
   "cell_type": "code",
   "execution_count": 91,
   "metadata": {},
   "outputs": [
    {
     "data": {
      "text/plain": [
       "{'ey': ['dv', 'lx', 'end', 'AL', 'SP', 'zw'],\n",
       " 'dv': ['ey', 'YT', 'ms', 'AL', 'start', 'zw'],\n",
       " 'AL': ['ms', 'ey', 'dv', 'zw', 'hm'],\n",
       " 'ms': ['AL', 'start', 'hm', 'dv', 'YT'],\n",
       " 'lx': ['ey', 'hm', 'end', 'zw'],\n",
       " 'zw': ['YT', 'hm', 'AL', 'lx', 'ey', 'dv'],\n",
       " 'YT': ['zw', 'start', 'dv', 'ms'],\n",
       " 'hm': ['zw', 'ms', 'end', 'rh', 'lx', 'AL'],\n",
       " 'start': ['YT', 'ms', 'dv'],\n",
       " 'end': ['ey', 'hm', 'lx'],\n",
       " 'rh': ['hm'],\n",
       " 'SP': ['ey']}"
      ]
     },
     "execution_count": 91,
     "metadata": {},
     "output_type": "execute_result"
    }
   ],
   "source": [
    "data = '''fs-end\n",
    "he-DX\n",
    "fs-he\n",
    "start-DX\n",
    "pj-DX\n",
    "end-zg\n",
    "zg-sl\n",
    "zg-pj\n",
    "pj-he\n",
    "RW-he\n",
    "fs-DX\n",
    "pj-RW\n",
    "zg-RW\n",
    "start-pj\n",
    "he-WI\n",
    "zg-he\n",
    "pj-fs\n",
    "start-RW'''.splitlines()\n",
    "\n",
    "data = get_data(day=12).splitlines()\n",
    "\n",
    "data_dict = {}\n",
    "\n",
    "for d in data:\n",
    "\n",
    "    key, value = d.split('-')\n",
    "\n",
    "    if key in data_dict.keys():\n",
    "        data_dict[key].append(value)\n",
    "    else:\n",
    "        data_dict[key] = [value]\n",
    "\n",
    "    if value in data_dict.keys():\n",
    "        data_dict[value].append(key)\n",
    "    else:\n",
    "        data_dict[value] = [key]\n",
    "\n",
    "data_dict"
   ]
  },
  {
   "cell_type": "code",
   "execution_count": 99,
   "metadata": {},
   "outputs": [
    {
     "data": {
      "text/plain": [
       "3779"
      ]
     },
     "execution_count": 99,
     "metadata": {},
     "output_type": "execute_result"
    }
   ],
   "source": [
    "paths = [['start']]\n",
    "finished = []\n",
    "\n",
    "while len(paths) > 0:\n",
    "\n",
    "    updated = []\n",
    "    for path in paths:\n",
    "        next_paths = data_dict[path[-1]]\n",
    "        for n in next_paths:\n",
    "            if n == 'end':\n",
    "                finished.append(path + [n])\n",
    "            \n",
    "            elif n.islower() and n not in path: \n",
    "                updated.append(path + [n])\n",
    "            \n",
    "            elif n.isupper():\n",
    "                updated.append(path + [n])\n",
    "\n",
    "\n",
    "    paths = updated\n",
    "\n",
    "len(finished)"
   ]
  },
  {
   "cell_type": "code",
   "execution_count": 116,
   "metadata": {},
   "outputs": [
    {
     "data": {
      "text/plain": [
       "96988"
      ]
     },
     "execution_count": 116,
     "metadata": {},
     "output_type": "execute_result"
    }
   ],
   "source": [
    "paths = [['start']]\n",
    "finished = []\n",
    "\n",
    "while len(paths) > 0:\n",
    "\n",
    "    updated = []\n",
    "    for path in paths:\n",
    "        next_paths = data_dict[path[-1]]\n",
    "\n",
    "        lower_counter = max([path.count(t) for t in path if t.islower()]) > 1\n",
    "\n",
    "        for n in next_paths:\n",
    "\n",
    "            if n == 'end':\n",
    "                finished.append(path + [n])\n",
    "            elif lower_counter:\n",
    "                if n.islower() and n not in path: \n",
    "                    updated.append(path + [n])\n",
    "                elif n.isupper():\n",
    "                    updated.append(path + [n])\n",
    "            elif n != 'start':\n",
    "                updated.append(path + [n])\n",
    "\n",
    "\n",
    "    paths = updated\n",
    "\n",
    "len(finished)"
   ]
  }
 ],
 "metadata": {
  "interpreter": {
   "hash": "b32e936e91378c4d397697d04582f22939185e0a3026652f9c69eeb0dda72e23"
  },
  "kernelspec": {
   "display_name": "Python 3.9.4 64-bit ('3.9.4': pyenv)",
   "name": "python3"
  },
  "language_info": {
   "codemirror_mode": {
    "name": "ipython",
    "version": 3
   },
   "file_extension": ".py",
   "mimetype": "text/x-python",
   "name": "python",
   "nbconvert_exporter": "python",
   "pygments_lexer": "ipython3",
   "version": "3.9.4"
  },
  "orig_nbformat": 4
 },
 "nbformat": 4,
 "nbformat_minor": 2
}
