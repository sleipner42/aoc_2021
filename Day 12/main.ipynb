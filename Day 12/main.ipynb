{
 "cells": [
  {
   "cell_type": "code",
   "execution_count": 119,
   "metadata": {},
   "outputs": [],
   "source": [
    "import numpy as np\n",
    "import pandas as pd\n",
    "\n",
    "import sys\n",
    "sys.path.append('../')\n",
    "import session\n",
    "\n",
    "from aocd import get_data\n",
    "from tqdm import tqdm\n",
    "\n",
    "from collections import defaultdict"
   ]
  },
  {
   "cell_type": "code",
   "execution_count": 262,
   "metadata": {},
   "outputs": [],
   "source": [
    "data = get_data(day=12).splitlines()\n",
    "\n",
    "data_dict = defaultdict(list)\n",
    "\n",
    "for d in data:\n",
    "    val1, val2 = d.split('-')\n",
    "    if val2 != 'start':\n",
    "        data_dict[val1] += [val2]\n",
    "    if val1 != 'start':\n",
    "        data_dict[val2] += [val1]"
   ]
  },
  {
   "cell_type": "code",
   "execution_count": 264,
   "metadata": {},
   "outputs": [
    {
     "name": "stdout",
     "output_type": "stream",
     "text": [
      "96988\n",
      "3779\n"
     ]
    }
   ],
   "source": [
    "def nbr_of_paths(path, p2 = True):\n",
    "\n",
    "    last = path[-1]\n",
    "\n",
    "    if not p2:\n",
    "        p2 = max([path[:-1].count(t) for t in path[:-1] if t.islower()] + [0]) > 1\n",
    "    \n",
    "    if last == 'end':\n",
    "        return 1\n",
    "    \n",
    "    if p2 and last in path[:-1] and last.islower():\n",
    "        return 0\n",
    "    \n",
    "    res = [nbr_of_paths(path + [n], p2=p2) for n in data_dict[path[-1]]]\n",
    "    return sum(res)\n",
    "\n",
    "print(nbr_of_paths(['start'], p2=False))\n",
    "print(nbr_of_paths(['start'], p2=True))"
   ]
  }
 ],
 "metadata": {
  "interpreter": {
   "hash": "b32e936e91378c4d397697d04582f22939185e0a3026652f9c69eeb0dda72e23"
  },
  "kernelspec": {
   "display_name": "Python 3.9.4 64-bit ('3.9.4': pyenv)",
   "name": "python3"
  },
  "language_info": {
   "codemirror_mode": {
    "name": "ipython",
    "version": 3
   },
   "file_extension": ".py",
   "mimetype": "text/x-python",
   "name": "python",
   "nbconvert_exporter": "python",
   "pygments_lexer": "ipython3",
   "version": "3.9.4"
  },
  "orig_nbformat": 4
 },
 "nbformat": 4,
 "nbformat_minor": 2
}
