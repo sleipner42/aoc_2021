{
 "cells": [
  {
   "cell_type": "code",
   "execution_count": 9,
   "metadata": {},
   "outputs": [],
   "source": [
    "import pandas as pd\n",
    "import numpy as np"
   ]
  },
  {
   "cell_type": "code",
   "execution_count": 10,
   "metadata": {},
   "outputs": [],
   "source": [
    "with open('test.txt') as file:\n",
    "    data = file.readlines()\n",
    "\n",
    "data = np.array(data)"
   ]
  },
  {
   "cell_type": "code",
   "execution_count": 139,
   "metadata": {},
   "outputs": [],
   "source": [
    "data = pd.read_csv('input.txt', names = ['nr'], delimiter=\" \")"
   ]
  },
  {
   "cell_type": "code",
   "execution_count": 140,
   "metadata": {},
   "outputs": [
    {
     "name": "stdout",
     "output_type": "stream",
     "text": [
      "1636725\n"
     ]
    }
   ],
   "source": [
    "groups = data.groupby(data.index)['nr'].sum()\n",
    "print((groups['down'] - groups['up'])*groups['forward'])"
   ]
  },
  {
   "cell_type": "code",
   "execution_count": 143,
   "metadata": {},
   "outputs": [
    {
     "name": "stdout",
     "output_type": "stream",
     "text": [
      "1872757425\n"
     ]
    }
   ],
   "source": [
    "forward = data.groupby(data.index)['nr'].sum()['forward']\n",
    "\n",
    "data['aim'] = data['nr']\n",
    "data.loc['forward', 'aim'] = 0\n",
    "data.loc['up', 'aim'] = -data.loc['up', 'aim'] \n",
    "\n",
    "data['aim'] = data['aim'].cumsum()\n",
    "depth = data.loc['forward', ['nr','aim']].prod(axis=1).sum()\n",
    "\n",
    "print(depth*forward)"
   ]
  },
  {
   "cell_type": "code",
   "execution_count": null,
   "metadata": {},
   "outputs": [],
   "source": []
  }
 ],
 "metadata": {
  "interpreter": {
   "hash": "aee8b7b246df8f9039afb4144a1f6fd8d2ca17a180786b69acc140d282b71a49"
  },
  "kernelspec": {
   "display_name": "Python 3.9.7 64-bit",
   "language": "python",
   "name": "python3"
  },
  "language_info": {
   "codemirror_mode": {
    "name": "ipython",
    "version": 3
   },
   "file_extension": ".py",
   "mimetype": "text/x-python",
   "name": "python",
   "nbconvert_exporter": "python",
   "pygments_lexer": "ipython3",
   "version": "3.9.7"
  },
  "orig_nbformat": 4
 },
 "nbformat": 4,
 "nbformat_minor": 2
}
