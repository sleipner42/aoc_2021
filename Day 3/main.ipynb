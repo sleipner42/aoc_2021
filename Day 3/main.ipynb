{
 "cells": [
  {
   "cell_type": "code",
   "execution_count": 7,
   "metadata": {},
   "outputs": [],
   "source": [
    "import numpy as np\n",
    "import pandas as pd\n",
    "\n",
    "import sys\n",
    "sys.path.append('../')\n",
    "import session\n",
    "\n",
    "from aocd import get_data"
   ]
  },
  {
   "cell_type": "code",
   "execution_count": 12,
   "metadata": {},
   "outputs": [],
   "source": [
    "d = get_data(day=3)\n",
    "df = pd.DataFrame([list(a) for a in d.splitlines()])"
   ]
  },
  {
   "cell_type": "code",
   "execution_count": 85,
   "metadata": {},
   "outputs": [
    {
     "name": "stdout",
     "output_type": "stream",
     "text": [
      "1092896\n"
     ]
    }
   ],
   "source": [
    "gamma = int(''.join(df.mode(axis=0).iloc[0].tolist()),2)\n",
    "epsilon = int(''.join(df.apply(lambda x: x.value_counts().idxmin()).tolist()),2)\n",
    "\n",
    "print(gamma * epsilon)"
   ]
  },
  {
   "cell_type": "code",
   "execution_count": 87,
   "metadata": {},
   "outputs": [
    {
     "name": "stdout",
     "output_type": "stream",
     "text": [
      "4672151\n"
     ]
    }
   ],
   "source": [
    "oxy = df.copy()\n",
    "co2 = df.copy()\n",
    "\n",
    "for n in df.columns:\n",
    "\n",
    "    m = oxy[n].value_counts().sort_index(ascending=False).idxmax()\n",
    "    oxy = oxy.loc[oxy[n] == m]\n",
    "\n",
    "    a = co2[n].value_counts().sort_index().idxmin()\n",
    "    co2 = co2.loc[co2[n] == a]\n",
    "\n",
    "oxy = int(''.join(oxy.iloc[0].tolist()),2)\n",
    "co2 = int(''.join(co2.iloc[0].tolist()),2)\n",
    "\n",
    "print(oxy * co2)"
   ]
  }
 ],
 "metadata": {
  "interpreter": {
   "hash": "b32e936e91378c4d397697d04582f22939185e0a3026652f9c69eeb0dda72e23"
  },
  "kernelspec": {
   "display_name": "Python 3.9.4 64-bit ('3.9.4': pyenv)",
   "name": "python3"
  },
  "language_info": {
   "codemirror_mode": {
    "name": "ipython",
    "version": 3
   },
   "file_extension": ".py",
   "mimetype": "text/x-python",
   "name": "python",
   "nbconvert_exporter": "python",
   "pygments_lexer": "ipython3",
   "version": "3.9.4"
  },
  "orig_nbformat": 4
 },
 "nbformat": 4,
 "nbformat_minor": 2
}
