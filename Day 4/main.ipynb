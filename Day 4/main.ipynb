{
 "cells": [
  {
   "cell_type": "code",
   "execution_count": 1,
   "metadata": {},
   "outputs": [],
   "source": [
    "import numpy as np\n",
    "import pandas as pd\n",
    "\n",
    "import sys\n",
    "sys.path.append('../')\n",
    "import session\n",
    "\n",
    "from aocd import get_data"
   ]
  },
  {
   "cell_type": "code",
   "execution_count": 243,
   "metadata": {},
   "outputs": [
    {
     "name": "stdout",
     "output_type": "stream",
     "text": [
      "1 : 64084.0\n",
      "2 : 12833.0\n"
     ]
    }
   ],
   "source": [
    "data = get_data(day=4).splitlines()\n",
    "draws = list(map(int, data.pop(0).split(',')))\n",
    "boards = np.array([line.split() for line in data if len(line) > 0]).reshape(-1, 5, 5).astype(int)\n",
    "\n",
    "results = np.zeros(boards.shape)\n",
    "mask = np.ones(boards.shape[0]).astype(bool)\n",
    "wins = []\n",
    "\n",
    "for n in draws:\n",
    "\n",
    "    results = results + (temp == n)\n",
    "\n",
    "    row_sum = (results.sum(axis=2) == 5).any(axis=1)\n",
    "    col_sum = (results.sum(axis=1) == 5).any(axis=1)\n",
    "\n",
    "    total = mask & (row_sum | col_sum)\n",
    "\n",
    "    if total.any():\n",
    "\n",
    "        mask[total] = False\n",
    "        score = (temp[total] * (1-results[total])).sum(axis=(1,2)) * n\n",
    "        wins = wins + list(score)\n",
    "\n",
    "print(f'1 : {wins[0]}')\n",
    "print(f'2 : {wins[-1]}')"
   ]
  }
 ],
 "metadata": {
  "interpreter": {
   "hash": "b32e936e91378c4d397697d04582f22939185e0a3026652f9c69eeb0dda72e23"
  },
  "kernelspec": {
   "display_name": "Python 3.9.4 64-bit ('3.9.4': pyenv)",
   "name": "python3"
  },
  "language_info": {
   "codemirror_mode": {
    "name": "ipython",
    "version": 3
   },
   "file_extension": ".py",
   "mimetype": "text/x-python",
   "name": "python",
   "nbconvert_exporter": "python",
   "pygments_lexer": "ipython3",
   "version": "3.9.4"
  },
  "orig_nbformat": 4
 },
 "nbformat": 4,
 "nbformat_minor": 2
}
