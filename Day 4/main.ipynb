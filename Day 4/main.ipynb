{
 "cells": [
  {
   "cell_type": "code",
   "execution_count": 1,
   "metadata": {},
   "outputs": [],
   "source": [
    "import numpy as np\n",
    "import pandas as pd\n",
    "\n",
    "import sys\n",
    "sys.path.append('../')\n",
    "import session\n",
    "\n",
    "from aocd import get_data"
   ]
  },
  {
   "cell_type": "code",
   "execution_count": 557,
   "metadata": {},
   "outputs": [],
   "source": [
    "data = get_data(day=4).splitlines()\n",
    "draws= np.array(list(map(int, data.pop(0).split(','))))\n",
    "boards = np.array([line.split() for line in data if len(line) > 0]).reshape(-1, 5, 5).astype(int)"
   ]
  },
  {
   "cell_type": "code",
   "execution_count": 558,
   "metadata": {},
   "outputs": [
    {
     "name": "stdout",
     "output_type": "stream",
     "text": [
      "8.95 ms ± 38.7 µs per loop (mean ± std. dev. of 7 runs, 100 loops each)\n"
     ]
    }
   ],
   "source": [
    "%%timeit\n",
    "\n",
    "results = np.zeros(boards.shape)\n",
    "mask = np.ones(boards.shape[0]).astype(bool)\n",
    "wins = []\n",
    "\n",
    "for n in draws:\n",
    "\n",
    "    results = results + (temp == n)\n",
    "\n",
    "    row_sum = (results.sum(axis=2) == 5).any(axis=1)\n",
    "    col_sum = (results.sum(axis=1) == 5).any(axis=1)\n",
    "\n",
    "    total = mask & (row_sum | col_sum)\n",
    "\n",
    "    if total.any():\n",
    "\n",
    "        mask[total] = False\n",
    "        score = (temp[total] * (1-results[total])).sum(axis=(1,2)) * n\n",
    "        wins = wins + list(score)\n",
    "\n",
    "#print(f'1 : {wins[0]}')\n",
    "#print(f'2 : {wins[-1]}')"
   ]
  },
  {
   "cell_type": "code",
   "execution_count": 565,
   "metadata": {},
   "outputs": [
    {
     "name": "stdout",
     "output_type": "stream",
     "text": [
      "4.51 ms ± 24.9 µs per loop (mean ± std. dev. of 7 runs, 100 loops each)\n"
     ]
    }
   ],
   "source": [
    "%%timeit\n",
    "\n",
    "shape = (len(draws), boards.shape[0], boards.shape[1], boards.shape[2])\n",
    "results = np.zeros(shape)\n",
    "boards_in_time = np.repeat(boards, 100, axis=0).reshape(shape).swapaxes(0,1)\n",
    "draws_in_time = draws.repeat(100*5*5).reshape(shape)\n",
    "\n",
    "comparision_in_time = (boards_in_time == draws_in_time)\n",
    "cumulative_play = np.cumsum(comparision_in_time, axis=0)\n",
    "\n",
    "board_win = ((cumulative_play.sum(axis=2) == 5) | (cumulative_play.sum(axis=3) == 5)).any(axis=2)\n",
    "new_wins = np.diff(board_win, axis=0, prepend=False)\n",
    "\n",
    "first_win = new_wins.any(axis=1)\n",
    "win_rounds = np.arange(len(draws))[first_win]\n",
    "\n",
    "first_win_round = win_rounds[0]\n",
    "first_win_board = new_wins[first_win_round].argmax()\n",
    "\n",
    "last_win_round = win_rounds[-1]\n",
    "last_win_board = new_wins[last_win_round].argmax()\n",
    "\n",
    "p1 = (boards[first_win_board] * (1-cumulative_play[first_win_round, first_win_board])).sum() * draws[first_win_round]\n",
    "p2 = (boards[last_win_board] * (1-cumulative_play[last_win_round, last_win_board])).sum() * draws[last_win_round]\n",
    "\n",
    "#print(p1, p2)"
   ]
  }
 ],
 "metadata": {
  "interpreter": {
   "hash": "b32e936e91378c4d397697d04582f22939185e0a3026652f9c69eeb0dda72e23"
  },
  "kernelspec": {
   "display_name": "Python 3.9.4 64-bit ('3.9.4': pyenv)",
   "name": "python3"
  },
  "language_info": {
   "codemirror_mode": {
    "name": "ipython",
    "version": 3
   },
   "file_extension": ".py",
   "mimetype": "text/x-python",
   "name": "python",
   "nbconvert_exporter": "python",
   "pygments_lexer": "ipython3",
   "version": "3.9.4"
  },
  "orig_nbformat": 4
 },
 "nbformat": 4,
 "nbformat_minor": 2
}
