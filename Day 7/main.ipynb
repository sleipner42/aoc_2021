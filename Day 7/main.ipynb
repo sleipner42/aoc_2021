{
 "cells": [
  {
   "cell_type": "code",
   "execution_count": 1,
   "metadata": {},
   "outputs": [],
   "source": [
    "import numpy as np\n",
    "import pandas as pd\n",
    "\n",
    "import sys\n",
    "sys.path.append('../')\n",
    "import session\n",
    "\n",
    "from aocd import get_data"
   ]
  },
  {
   "cell_type": "code",
   "execution_count": 200,
   "metadata": {},
   "outputs": [],
   "source": [
    "data = get_data(day=7).split(',')\n",
    "data = list(map(int, data))\n",
    "data = np.array(data)"
   ]
  },
  {
   "cell_type": "code",
   "execution_count": 204,
   "metadata": {},
   "outputs": [
    {
     "name": "stdout",
     "output_type": "stream",
     "text": [
      "342730 92335207.0\n"
     ]
    }
   ],
   "source": [
    "max_n = data.max()\n",
    "data_tile = data.repeat(max_n).reshape(-1, max_n).T\n",
    "steps = np.arange(max_n).repeat(len(data)).reshape(-1, len(data))\n",
    "\n",
    "fuel = np.abs(data_tile - steps)\n",
    "\n",
    "p1 = fuel.sum(axis=1).min()\n",
    "\n",
    "p2 = ((fuel+1)*fuel)/2\n",
    "p2 = p2.sum(axis=1).min()\n",
    "\n",
    "print(p1, p2)"
   ]
  }
 ],
 "metadata": {
  "interpreter": {
   "hash": "b32e936e91378c4d397697d04582f22939185e0a3026652f9c69eeb0dda72e23"
  },
  "kernelspec": {
   "display_name": "Python 3.9.4 64-bit ('3.9.4': pyenv)",
   "name": "python3"
  },
  "language_info": {
   "codemirror_mode": {
    "name": "ipython",
    "version": 3
   },
   "file_extension": ".py",
   "mimetype": "text/x-python",
   "name": "python",
   "nbconvert_exporter": "python",
   "pygments_lexer": "ipython3",
   "version": "3.9.4"
  },
  "orig_nbformat": 4
 },
 "nbformat": 4,
 "nbformat_minor": 2
}
