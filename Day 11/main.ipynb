{
 "cells": [
  {
   "cell_type": "code",
   "execution_count": 66,
   "metadata": {},
   "outputs": [],
   "source": [
    "import numpy as np\n",
    "import pandas as pd\n",
    "\n",
    "import sys\n",
    "sys.path.append('../')\n",
    "import session\n",
    "\n",
    "from aocd import get_data\n",
    "from tqdm import tqdm"
   ]
  },
  {
   "cell_type": "code",
   "execution_count": 67,
   "metadata": {},
   "outputs": [],
   "source": [
    "data = get_data(day=11).splitlines()\n",
    "data = np.array([list(d) for d in data]).astype(int)"
   ]
  },
  {
   "cell_type": "code",
   "execution_count": 68,
   "metadata": {},
   "outputs": [
    {
     "name": "stdout",
     "output_type": "stream",
     "text": [
      "1613\n",
      "510\n"
     ]
    }
   ],
   "source": [
    "temp = data.copy()\n",
    "\n",
    "def flash(data, x, y, have_flashed):\n",
    "\n",
    "    if not [x, y] in have_flashed and data[x, y] > 9:\n",
    "        \n",
    "        have_flashed.append([x, y])\n",
    "\n",
    "        data[x, y] = 0\n",
    "\n",
    "        for x_cord in range(max(x-1, 0), min(x+2, data.shape[0])):\n",
    "            for y_cord in range(max(y-1, 0),min(y+2, data.shape[1])):\n",
    "                \n",
    "                if [x_cord, y_cord] not in have_flashed:\n",
    "                    data[x_cord, y_cord] += 1\n",
    "                    flash(data, x_cord, y_cord, have_flashed)\n",
    "\n",
    "    return len(have_flashed)\n",
    "\n",
    "nr_of_flashes = []\n",
    "counter = 0\n",
    "\n",
    "while True:\n",
    "\n",
    "    temp += 1\n",
    "    counter += 1\n",
    "\n",
    "    flashes = np.where(temp > 9)\n",
    "\n",
    "    x_flash = flashes[0].reshape(-1, 1)\n",
    "    y_flash = flashes[1].reshape(-1, 1)\n",
    "\n",
    "    flashes = np.concatenate((x_flash, y_flash), axis=1)\n",
    "    have_flashed = []\n",
    "\n",
    "    for cords in flashes:\n",
    "        flash(temp, cords[0], cords[1], have_flashed)\n",
    "\n",
    "    if counter <= 100:\n",
    "        flashes = (temp==0).sum()\n",
    "        nr_of_flashes.append(flashes)\n",
    "\n",
    "    if (temp == 0).all():\n",
    "        break\n",
    "\n",
    "\n",
    "print(sum(nr_of_flashes))\n",
    "print(counter)"
   ]
  }
 ],
 "metadata": {
  "interpreter": {
   "hash": "b32e936e91378c4d397697d04582f22939185e0a3026652f9c69eeb0dda72e23"
  },
  "kernelspec": {
   "display_name": "Python 3.9.4 64-bit ('3.9.4': pyenv)",
   "name": "python3"
  },
  "language_info": {
   "codemirror_mode": {
    "name": "ipython",
    "version": 3
   },
   "file_extension": ".py",
   "mimetype": "text/x-python",
   "name": "python",
   "nbconvert_exporter": "python",
   "pygments_lexer": "ipython3",
   "version": "3.9.4"
  },
  "orig_nbformat": 4
 },
 "nbformat": 4,
 "nbformat_minor": 2
}
