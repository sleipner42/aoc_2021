{
 "cells": [
  {
   "cell_type": "code",
   "execution_count": 1,
   "metadata": {},
   "outputs": [],
   "source": [
    "import numpy as np\n",
    "import pandas as pd\n",
    "\n",
    "import sys\n",
    "sys.path.append('../')\n",
    "import session\n",
    "\n",
    "from aocd import get_data\n",
    "from tqdm import tqdm"
   ]
  },
  {
   "cell_type": "code",
   "execution_count": 41,
   "metadata": {},
   "outputs": [],
   "source": [
    "data = get_data(day=10).splitlines()"
   ]
  },
  {
   "cell_type": "code",
   "execution_count": 55,
   "metadata": {},
   "outputs": [
    {
     "name": "stdout",
     "output_type": "stream",
     "text": [
      "p1 392097\n",
      "p2 4263222782.0\n"
     ]
    }
   ],
   "source": [
    "pairs = {\n",
    "    '<' : '>',\n",
    "    '[' : ']',\n",
    "    '{' : '}',\n",
    "    '(' : ')',\n",
    "}\n",
    "\n",
    "opens = ['[', '<', '{', '(']\n",
    "closes = ['}', '>', '}', ')']\n",
    "\n",
    "scores = {\n",
    "    '}' : 1197,\n",
    "    ')' : 3,\n",
    "    ']' : 57,\n",
    "    '>' : 25137\n",
    "}\n",
    "\n",
    "rest = {\n",
    "    '}' : 3,\n",
    "    ')' : 1,\n",
    "    ']' : 2,\n",
    "    '>' : 4\n",
    "}\n",
    "\n",
    "score = 0 \n",
    "\n",
    "auto_score = []\n",
    "\n",
    "for a in data:\n",
    "\n",
    "    temp = []\n",
    "    illegal = []\n",
    "    \n",
    "    for c in a:\n",
    "        if c in opens:\n",
    "            temp.append(c)\n",
    "        else:\n",
    "            matching = temp.pop(-1)\n",
    "            if pairs[matching] != c:\n",
    "                illegal.append(c)\n",
    "                score+=scores[c]\n",
    "\n",
    "    rest_score = 0\n",
    "\n",
    "    if len(illegal) == 0:\n",
    "\n",
    "        for n in temp[::-1]:\n",
    "            \n",
    "            char = pairs[n]\n",
    "            rest_score = rest_score * 5 + rest[char]\n",
    "        \n",
    "        auto_score.append(rest_score)\n",
    "\n",
    "print(f'p1 {score}')\n",
    "print(f'p2 {np.median(sorted(auto_score))}')"
   ]
  }
 ],
 "metadata": {
  "interpreter": {
   "hash": "b32e936e91378c4d397697d04582f22939185e0a3026652f9c69eeb0dda72e23"
  },
  "kernelspec": {
   "display_name": "Python 3.9.4 64-bit ('3.9.4': pyenv)",
   "name": "python3"
  },
  "language_info": {
   "codemirror_mode": {
    "name": "ipython",
    "version": 3
   },
   "file_extension": ".py",
   "mimetype": "text/x-python",
   "name": "python",
   "nbconvert_exporter": "python",
   "pygments_lexer": "ipython3",
   "version": "3.9.4"
  },
  "orig_nbformat": 4
 },
 "nbformat": 4,
 "nbformat_minor": 2
}
