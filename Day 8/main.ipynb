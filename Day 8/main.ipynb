{
 "cells": [
  {
   "cell_type": "code",
   "execution_count": 1,
   "metadata": {},
   "outputs": [],
   "source": [
    "import numpy as np\n",
    "import pandas as pd\n",
    "\n",
    "import sys\n",
    "sys.path.append('../')\n",
    "import session\n",
    "\n",
    "from aocd import get_data"
   ]
  },
  {
   "cell_type": "code",
   "execution_count": 2,
   "metadata": {},
   "outputs": [],
   "source": [
    "data = get_data(day=8).splitlines()\n",
    "data = [d.split(' | ') for d in data]\n",
    "#data = list(map(int, data))\n",
    "#data = np.array(data)"
   ]
  },
  {
   "cell_type": "code",
   "execution_count": 3,
   "metadata": {},
   "outputs": [
    {
     "ename": "AttributeError",
     "evalue": "'list' object has no attribute 'split'",
     "output_type": "error",
     "traceback": [
      "\u001b[0;31m---------------------------------------------------------------------------\u001b[0m",
      "\u001b[0;31mAttributeError\u001b[0m                            Traceback (most recent call last)",
      "\u001b[0;32m/tmp/ipykernel_4174/3695110183.py\u001b[0m in \u001b[0;36m<module>\u001b[0;34m\u001b[0m\n\u001b[1;32m      3\u001b[0m \u001b[0;34m\u001b[0m\u001b[0m\n\u001b[1;32m      4\u001b[0m \u001b[0;32mfor\u001b[0m \u001b[0mline\u001b[0m \u001b[0;32min\u001b[0m \u001b[0mdata\u001b[0m\u001b[0;34m:\u001b[0m\u001b[0;34m\u001b[0m\u001b[0;34m\u001b[0m\u001b[0m\n\u001b[0;32m----> 5\u001b[0;31m     \u001b[0md\u001b[0m \u001b[0;34m=\u001b[0m \u001b[0;34m[\u001b[0m\u001b[0mlen\u001b[0m\u001b[0;34m(\u001b[0m\u001b[0md\u001b[0m\u001b[0;34m)\u001b[0m \u001b[0;32mfor\u001b[0m \u001b[0md\u001b[0m \u001b[0;32min\u001b[0m \u001b[0mline\u001b[0m\u001b[0;34m.\u001b[0m\u001b[0msplit\u001b[0m\u001b[0;34m(\u001b[0m\u001b[0;34m)\u001b[0m\u001b[0;34m]\u001b[0m\u001b[0;34m\u001b[0m\u001b[0;34m\u001b[0m\u001b[0m\n\u001b[0m\u001b[1;32m      6\u001b[0m \u001b[0;34m\u001b[0m\u001b[0m\n\u001b[1;32m      7\u001b[0m     \u001b[0;32mfor\u001b[0m \u001b[0mn\u001b[0m \u001b[0;32min\u001b[0m \u001b[0md\u001b[0m\u001b[0;34m:\u001b[0m\u001b[0;34m\u001b[0m\u001b[0;34m\u001b[0m\u001b[0m\n",
      "\u001b[0;31mAttributeError\u001b[0m: 'list' object has no attribute 'split'"
     ]
    }
   ],
   "source": [
    "c = 0\n",
    "coor = [7,2,3,4]\n",
    "\n",
    "for line in data:\n",
    "    d = [len(d) for d in line.split()]\n",
    "\n",
    "    for n in d:\n",
    "        if n in coor:\n",
    "            c+=1"
   ]
  },
  {
   "cell_type": "code",
   "execution_count": 20,
   "metadata": {},
   "outputs": [],
   "source": [
    "lookup = {\n",
    "    7:8,\n",
    "    2:1,\n",
    "    3:7,\n",
    "    4:4\n",
    "}\n",
    "\n",
    "def decode(temp, out):\n",
    "\n",
    "    temp = temp.split()\n",
    "\n",
    "    res = {0: '', 1 : '', 2 : '', 3 : '', 4 : '', 5 : '', 6 : '', 7 : '', 8 : '', 9 : ''}\n",
    "\n",
    "\n",
    "    unk = []\n",
    "\n",
    "    for seq in temp:\n",
    "        if len(seq) in lookup.keys():\n",
    "            res[lookup[len(seq)]] = ''.join(sorted(seq))\n",
    "        else:\n",
    "            unk.append(''.join(sorted(seq)))\n",
    "\n",
    "    for u in unk:\n",
    "\n",
    "        if len(u) == 6 and len(set(u) - set(res[4])) == 2:\n",
    "            res[9] = u\n",
    "        elif len(u) == 5 and len(set(u) - set(res[1])) == 3:\n",
    "            res[3] = u\n",
    "        elif len(u) == 6 and len(set(res[8]) - set(u)) == 1 and len(set(res[7]) - set(u)) == 1:\n",
    "            res[6] = u\n",
    "        elif len(u) == 6 and len(set(res[8]) - set(u)) == 1 and len(set(res[7]) - set(u)) == 0:\n",
    "            res[0] = u\n",
    "        elif len(u) == 5 and len(set(res[8]) - set(u)) == 2 and len(set(res[4]) - set(u)) == 2:\n",
    "            res[2] = u\n",
    "        else:\n",
    "            res[5] = u\n",
    "\n",
    "    res = dict(zip(res.values(), res.keys()))\n",
    "    out = [res[''.join(sorted(d))] for d in out.split()]\n",
    "\n",
    "    return ''.join(list(map(str,out)))\n",
    "\n",
    "#decode(1,2)"
   ]
  },
  {
   "cell_type": "code",
   "execution_count": 25,
   "metadata": {},
   "outputs": [
    {
     "data": {
      "text/plain": [
       "1020159"
      ]
     },
     "execution_count": 25,
     "metadata": {},
     "output_type": "execute_result"
    }
   ],
   "source": [
    "results = []\n",
    "\n",
    "for line in data:\n",
    "    res = decode(line[0], line[1])\n",
    "    results.append(int(res))\n",
    "\n",
    "sum(results)"
   ]
  }
 ],
 "metadata": {
  "interpreter": {
   "hash": "b32e936e91378c4d397697d04582f22939185e0a3026652f9c69eeb0dda72e23"
  },
  "kernelspec": {
   "display_name": "Python 3.9.4 64-bit ('3.9.4': pyenv)",
   "name": "python3"
  },
  "language_info": {
   "codemirror_mode": {
    "name": "ipython",
    "version": 3
   },
   "file_extension": ".py",
   "mimetype": "text/x-python",
   "name": "python",
   "nbconvert_exporter": "python",
   "pygments_lexer": "ipython3",
   "version": "3.9.4"
  },
  "orig_nbformat": 4
 },
 "nbformat": 4,
 "nbformat_minor": 2
}
