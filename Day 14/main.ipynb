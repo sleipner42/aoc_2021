{
 "cells": [
  {
   "cell_type": "code",
   "execution_count": 1,
   "metadata": {},
   "outputs": [],
   "source": [
    "import numpy as np\n",
    "\n",
    "import sys\n",
    "sys.path.append('../')\n",
    "import session\n",
    "\n",
    "from aocd import get_data\n",
    "from tqdm import tqdm\n",
    "\n",
    "from collections import defaultdict"
   ]
  },
  {
   "cell_type": "code",
   "execution_count": 174,
   "metadata": {},
   "outputs": [
    {
     "data": {
      "text/plain": [
       "'CHBBKPHCPHPOKNSNCOVB'"
      ]
     },
     "execution_count": 174,
     "metadata": {},
     "output_type": "execute_result"
    }
   ],
   "source": [
    "data = get_data(day=14).split('\\n\\n')\n",
    "template = data[0]\n",
    "pairs = {d.split(' -> ')[0] : d.split(' -> ')[1] for d in data[1].splitlines()}"
   ]
  },
  {
   "cell_type": "code",
   "execution_count": 184,
   "metadata": {},
   "outputs": [
    {
     "name": "stdout",
     "output_type": "stream",
     "text": [
      "3118.0\n",
      "4332887448171.0\n"
     ]
    }
   ],
   "source": [
    "def solve(nr, template, pairs):\n",
    "    pair_counter = defaultdict(int)\n",
    "\n",
    "    for n in range(len(template) - 1):\n",
    "        pair_counter[temp[n: n+2]] += 1\n",
    "\n",
    "    for _ in range(nr):\n",
    "        temp_dict = defaultdict(int)\n",
    "\n",
    "        for key, val in pair_counter.items():\n",
    "            insert = pairs[key]\n",
    "            temp_dict[key[0] + insert] += 1 * val\n",
    "            temp_dict[insert + key[1]] += 1 * val\n",
    "\n",
    "        pair_counter = temp_dict\n",
    "\n",
    "    count_dict = defaultdict(float)\n",
    "    count_dict[template[0]] = 0.5\n",
    "    count_dict[template[-1]] = 0.5\n",
    "\n",
    "    for key, val in pair_counter.items():\n",
    "        for k in key:\n",
    "            count_dict[k] += val/2\n",
    "\n",
    "    return max(count_dict.values()) - min(count_dict.values())\n",
    "\n",
    "print(solve(10, template, pairs))\n",
    "print(solve(40, template, pairs))"
   ]
  }
 ],
 "metadata": {
  "interpreter": {
   "hash": "c17c3072d096d938a03895bf5f2768362f0e1d65ff5d07d81fa466fec95cfffd"
  },
  "kernelspec": {
   "display_name": "Python 3.10.0 64-bit ('3.10.0': pyenv)",
   "name": "python3"
  },
  "language_info": {
   "codemirror_mode": {
    "name": "ipython",
    "version": 3
   },
   "file_extension": ".py",
   "mimetype": "text/x-python",
   "name": "python",
   "nbconvert_exporter": "python",
   "pygments_lexer": "ipython3",
   "version": "3.10.0"
  },
  "orig_nbformat": 4
 },
 "nbformat": 4,
 "nbformat_minor": 2
}
