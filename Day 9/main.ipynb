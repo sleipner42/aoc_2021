{
 "cells": [
  {
   "cell_type": "code",
   "execution_count": 75,
   "metadata": {},
   "outputs": [],
   "source": [
    "import numpy as np\n",
    "import pandas as pd\n",
    "\n",
    "import sys\n",
    "sys.path.append('../')\n",
    "import session\n",
    "\n",
    "from aocd import get_data\n",
    "from tqdm import tqdm\n",
    "\n",
    "import numpy.ma as ma"
   ]
  },
  {
   "cell_type": "code",
   "execution_count": 76,
   "metadata": {},
   "outputs": [],
   "source": [
    "data = get_data(day=9).splitlines()\n",
    "data  = np.array([list(d) for d in data]).astype(int)"
   ]
  },
  {
   "cell_type": "code",
   "execution_count": 77,
   "metadata": {},
   "outputs": [],
   "source": [
    "mask = np.array([[0,1,0], [1,1,1], [0,1,0]])\n",
    "\n",
    "def is_smallest(data, x, y):\n",
    "    \n",
    "    m = data[max(x-1, 0):x+2, max(y-1, 0):y+2]\n",
    "    submask = mask[-min(x-1, 0): min(data.shape[0]+1-x, 3), -min(y-1, 0): min(data.shape[1]+1-y, 3)]\n",
    "    m = m[np.where(submask == 1)]\n",
    "\n",
    "    if len(np.unique(m)) > 1:\n",
    "        return (data[x, y] <= m).all()\n",
    "    else:\n",
    "        return False\n",
    "\n",
    "def count_lower(data, x, y, visited):\n",
    "\n",
    "    if [x, y] in visited:\n",
    "        return 0\n",
    "    \n",
    "    visited.append([x, y])\n",
    "\n",
    "    if data[x, y] == 9:\n",
    "        return 0\n",
    "\n",
    "    size = 1\n",
    "\n",
    "    if x > 0:\n",
    "        size += count_lower(data, x-1, y, visited)\n",
    "\n",
    "    if x < data.shape[0] - 1:\n",
    "        size += count_lower(data, x+1, y, visited)\n",
    "\n",
    "    if y > 0:\n",
    "        size += count_lower(data, x, y-1, visited)\n",
    "\n",
    "    if y < data.shape[1] - 1:\n",
    "        size += count_lower(data, x, y+1, visited)\n",
    "\n",
    "    return size"
   ]
  },
  {
   "cell_type": "code",
   "execution_count": 78,
   "metadata": {},
   "outputs": [
    {
     "name": "stderr",
     "output_type": "stream",
     "text": [
      "100it [00:00, 275.89it/s]\n"
     ]
    },
    {
     "name": "stdout",
     "output_type": "stream",
     "text": [
      "475.0\n"
     ]
    },
    {
     "data": {
      "text/plain": [
       "1092012"
      ]
     },
     "execution_count": 78,
     "metadata": {},
     "output_type": "execute_result"
    }
   ],
   "source": [
    "out = np.zeros(data.shape)\n",
    "\n",
    "for x, row in tqdm(enumerate(data)):\n",
    "    for y, point in enumerate(row):\n",
    "        out[x, y] = is_smallest(data, x, y)\n",
    "\n",
    "print((out * (data + 1)).sum())\n",
    "\n",
    "x = np.where(out)[0].reshape(-1,1)\n",
    "y = np.where(out)[1].reshape(-1,1)\n",
    "lowest = np.concatenate((x, y), axis=1)\n",
    "\n",
    "all_basins = []\n",
    "\n",
    "for point in lowest:\n",
    "    all_basins.append(count_lower(data, point[0], point[1], []))\n",
    "    \n",
    "np.prod(sorted(all_basins)[-3:])"
   ]
  }
 ],
 "metadata": {
  "interpreter": {
   "hash": "b32e936e91378c4d397697d04582f22939185e0a3026652f9c69eeb0dda72e23"
  },
  "kernelspec": {
   "display_name": "Python 3.9.4 64-bit ('3.9.4': pyenv)",
   "name": "python3"
  },
  "language_info": {
   "codemirror_mode": {
    "name": "ipython",
    "version": 3
   },
   "file_extension": ".py",
   "mimetype": "text/x-python",
   "name": "python",
   "nbconvert_exporter": "python",
   "pygments_lexer": "ipython3",
   "version": "3.9.4"
  },
  "orig_nbformat": 4
 },
 "nbformat": 4,
 "nbformat_minor": 2
}
