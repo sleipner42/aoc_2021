{
 "cells": [
  {
   "cell_type": "code",
   "execution_count": 23,
   "metadata": {},
   "outputs": [],
   "source": [
    "import numpy as np\n",
    "\n",
    "import sys\n",
    "sys.path.append('../')\n",
    "import session\n",
    "\n",
    "from aocd import get_data\n",
    "from tqdm import tqdm\n",
    "\n",
    "from collections import defaultdict\n",
    "import heapq as heap"
   ]
  },
  {
   "cell_type": "code",
   "execution_count": 101,
   "metadata": {},
   "outputs": [],
   "source": [
    "data = get_data(day=15).splitlines()\n",
    "data = np.array([list(d) for d in data]).astype(int)"
   ]
  },
  {
   "cell_type": "code",
   "execution_count": 102,
   "metadata": {},
   "outputs": [],
   "source": [
    "def get_neighbours(data, x, y):\n",
    "\n",
    "    neighs = []\n",
    "\n",
    "    new_x = min(x+1, data.shape[0] - 1)\n",
    "    new_y = min(y+1, data.shape[1] - 1)\n",
    "\n",
    "    new_x_2 = max(x-1, 0)\n",
    "    new_y_2 = max(y-1, 0)\n",
    "\n",
    "    if x != new_x:\n",
    "        neighs.append((new_x, y))\n",
    "    \n",
    "    if x != new_x_2:\n",
    "        neighs.append((new_x_2, y))\n",
    "\n",
    "    if y != new_y:\n",
    "        neighs.append((x, new_y))\n",
    "\n",
    "    if y != new_y_2:\n",
    "        neighs.append((x, new_y_2))\n",
    "\n",
    "    return set(neighs)\n",
    "\n",
    "def search(data):\n",
    "\n",
    "    costs = np.ones(data.shape) * np.inf\n",
    "    costs[0,0] = 0\n",
    "    visited = set()\n",
    "\n",
    "    pq = []\n",
    "\n",
    "    heap.heappush(pq, (0, (0,0)))\n",
    "\n",
    "    while pq:\n",
    "\n",
    "        _, node = heap.heappop(pq)\n",
    "        visited.add(node)\n",
    "\n",
    "        for adj_node in get_neighbours(data, *node):\n",
    "            if adj_node in visited: continue\n",
    "\n",
    "            newCost = costs[node] + data[adj_node]\n",
    "\n",
    "            if costs[adj_node] > newCost:\n",
    "                costs[adj_node] = newCost\n",
    "                heap.heappush(pq, (newCost, adj_node))\n",
    "\n",
    "\n",
    "    return costs[(-1, -1)]\n",
    "\n",
    "\n",
    "p2_data = np.repeat(np.zeros(data.shape), 25).reshape(data.shape[0] * 5, data.shape[1] * 5)\n",
    "x_shape = data.shape[0]\n",
    "y_shape = data.shape[1]\n",
    "\n",
    "for x in range(5):\n",
    "    for y in range(5):\n",
    "        \n",
    "        p2_data[x_shape * x : x_shape * (1+x), y_shape * y : y_shape * (y+1)] = data + x + y\n",
    "\n",
    "p2_data[np.where(p2_data != 9)] = p2_data[np.where(p2_data != 9)] % 9"
   ]
  },
  {
   "cell_type": "code",
   "execution_count": 100,
   "metadata": {},
   "outputs": [
    {
     "name": "stdout",
     "output_type": "stream",
     "text": [
      "398.0\n"
     ]
    },
    {
     "data": {
      "text/plain": [
       "2817.0"
      ]
     },
     "execution_count": 100,
     "metadata": {},
     "output_type": "execute_result"
    }
   ],
   "source": [
    "print(search(data))\n",
    "search(p2_data)"
   ]
  }
 ],
 "metadata": {
  "interpreter": {
   "hash": "c17c3072d096d938a03895bf5f2768362f0e1d65ff5d07d81fa466fec95cfffd"
  },
  "kernelspec": {
   "display_name": "Python 3.10.0 64-bit ('3.10.0': pyenv)",
   "name": "python3"
  },
  "language_info": {
   "codemirror_mode": {
    "name": "ipython",
    "version": 3
   },
   "file_extension": ".py",
   "mimetype": "text/x-python",
   "name": "python",
   "nbconvert_exporter": "python",
   "pygments_lexer": "ipython3",
   "version": "3.10.0"
  },
  "orig_nbformat": 4
 },
 "nbformat": 4,
 "nbformat_minor": 2
}
